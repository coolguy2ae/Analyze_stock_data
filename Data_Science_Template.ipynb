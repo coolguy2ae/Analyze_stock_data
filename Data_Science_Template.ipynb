{
  "nbformat": 4,
  "nbformat_minor": 0,
  "metadata": {
    "colab": {
      "provenance": [],
      "authorship_tag": "ABX9TyMAnQ0YydEToNthQ4jgIAJ5",
      "include_colab_link": true
    },
    "kernelspec": {
      "name": "python3",
      "display_name": "Python 3"
    },
    "language_info": {
      "name": "python"
    }
  },
  "cells": [
    {
      "cell_type": "markdown",
      "metadata": {
        "id": "view-in-github",
        "colab_type": "text"
      },
      "source": [
        "<a href=\"https://colab.research.google.com/github/coolguy2ae/Analyze_stock_data/blob/main/Data_Science_Template.ipynb\" target=\"_parent\"><img src=\"https://colab.research.google.com/assets/colab-badge.svg\" alt=\"Open In Colab\"/></a>"
      ]
    },
    {
      "cell_type": "code",
      "execution_count": 2,
      "metadata": {
        "id": "uamE6LEZ_qua"
      },
      "outputs": [],
      "source": [
        "# 📦 Package Installation (Run this cell first)\n",
        "!pip install -q pandas numpy matplotlib seaborn scikit-learn\n",
        "\n",
        "# ✅ Standard Imports\n",
        "import pandas as pd\n",
        "import numpy as np\n",
        "import matplotlib.pyplot as plt\n",
        "import seaborn as sns\n",
        "\n",
        "# Optional: Machine Learning tools\n",
        "from sklearn.model_selection import train_test_split\n",
        "from sklearn.linear_model import LinearRegression\n",
        "\n"
      ]
    },
    {
      "cell_type": "code",
      "source": [],
      "metadata": {
        "id": "ECsoYpQ5_8Dv"
      },
      "execution_count": null,
      "outputs": []
    }
  ]
}